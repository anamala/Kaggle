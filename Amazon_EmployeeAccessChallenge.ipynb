{
 "cells": [
  {
   "cell_type": "markdown",
   "metadata": {},
   "source": [
    "##  Amazon.com - Employee Access Challenge \n",
    "The goal is to predict whether access to a resource should be granted or not\n",
    "\n",
    "https://www.kaggle.com/c/amazon-employee-access-challenge\n",
    "\n",
    "* by: Adarsh Namala. \n",
    "* adarsh.namala@gmail.com\n",
    "\n",
    "The data consists of real historical data collected from 2010 & 2011.  Employees are manually allowed or denied access to resources over time. You must create an algorithm capable of learning from this historical data to predict approval/denial for an unseen set of employees. \n",
    "\n",
    "#####File Descriptions:\n",
    "\n",
    "train.csv - The training set. Each row has the ACTION (ground truth), RESOURCE, and information about the employee's role at the time of approval\n",
    "\n",
    "test.csv - The test set for which predictions should be made.  Each row asks whether an employee having the listed characteristics should have access to the listed resource.\n",
    "\n",
    "#####Column Descriptions:\n",
    "\n",
    "* ACTION: ACTION is 1 if the resource was approved, 0 if the resource was not\n",
    "* RESOURCE: An ID for each resource\n",
    "* MGR_ID: The EMPLOYEE ID of the manager of the current EMPLOYEE ID record; an employee may have only one manager at a time\n",
    "* ROLE_ROLLUP_1: Company role grouping category id 1 (e.g. US Engineering)\n",
    "* ROLE_ROLLUP_2: Company role grouping category id 2 (e.g. US Retail)\n",
    "* ROLE_DEPTNAME: Company role department description (e.g. Retail)\n",
    "* ROLE_TITLE: Company role business title description (e.g. Senior Engineering Retail Manager)\n",
    "* ROLE_FAMILY_DESC: Company role family extended description (e.g. Retail Manager, Software Engineering)\n",
    "* ROLE_FAMILY: Company role family description (e.g. Retail Manager)\n",
    "* ROLE_CODE: Company role code; this code is unique to each role (e.g. Manager)"
   ]
  },
  {
   "cell_type": "code",
   "execution_count": 1,
   "metadata": {
    "collapsed": false
   },
   "outputs": [],
   "source": [
    "import pandas as pd\n",
    "import numpy as np\n",
    "import seaborn as sns\n",
    "%matplotlib inline\n",
    "import matplotlib.pyplot as plt\n",
    "import plotly\n",
    "import random"
   ]
  },
  {
   "cell_type": "code",
   "execution_count": 3,
   "metadata": {
    "collapsed": false
   },
   "outputs": [],
   "source": [
    "loc_dir = \"C:\\\\Users\\\\206445860\\\\Documents\\\\Adarsh\\\\Kaggle\\\\Amazon\\\\data\\\\\"\n",
    "train_df = pd.read_csv(loc_dir + \"train.csv\")\n",
    "test_df = pd.read_csv(loc_dir + \"test.csv\")"
   ]
  },
  {
   "cell_type": "code",
   "execution_count": 4,
   "metadata": {
    "collapsed": false
   },
   "outputs": [
    {
     "name": "stdout",
     "output_type": "stream",
     "text": [
      "Columns in train set:\n",
      "Index([u'ACTION', u'RESOURCE', u'MGR_ID', u'ROLE_ROLLUP_1', u'ROLE_ROLLUP_2',\n",
      "       u'ROLE_DEPTNAME', u'ROLE_TITLE', u'ROLE_FAMILY_DESC', u'ROLE_FAMILY',\n",
      "       u'ROLE_CODE'],\n",
      "      dtype='object')\n",
      "\n",
      "Columns in test set:\n",
      " Index([u'id', u'RESOURCE', u'MGR_ID', u'ROLE_ROLLUP_1', u'ROLE_ROLLUP_2',\n",
      "       u'ROLE_DEPTNAME', u'ROLE_TITLE', u'ROLE_FAMILY_DESC', u'ROLE_FAMILY',\n",
      "       u'ROLE_CODE'],\n",
      "      dtype='object')\n"
     ]
    }
   ],
   "source": [
    "print \"Columns in train set:\\n%s\\n\\nColumns in test set:\\n %s\" %(train_df.columns,test_df.columns)"
   ]
  },
  {
   "cell_type": "code",
   "execution_count": 5,
   "metadata": {
    "collapsed": false
   },
   "outputs": [],
   "source": [
    "col_resource=\"RESOURCE\"; col_mgr = \"MGR_ID\"; col_rollup1 = \"ROLE_ROLLUP_1\"; col_rollup2 = \"ROLE_ROLLUP_2\";\n",
    "col_dept = \"ROLE_DEPTNAME\"; col_title = \"ROLE_TITLE\"; col_desc = \"ROLE_FAMILY_DESC\";col_family = \"ROLE_FAMILY\";\n",
    "col_code = \"ROLE_CODE\";col_action='ACTION';"
   ]
  },
  {
   "cell_type": "code",
   "execution_count": 6,
   "metadata": {
    "collapsed": false
   },
   "outputs": [
    {
     "name": "stdout",
     "output_type": "stream",
     "text": [
      "Different dtypes in the dataset\n",
      "[dtype('int64')]\n",
      "All the columns in the train and test dataset are Int64\n"
     ]
    }
   ],
   "source": [
    "print\"Different dtypes in the dataset\"\n",
    "print train_df.dtypes.unique()\n",
    "\n",
    "print \"All the columns in the train and test dataset are Int64\""
   ]
  },
  {
   "cell_type": "markdown",
   "metadata": {},
   "source": [
    "Check what perc of entries in the train set for the common columns exist in the test set"
   ]
  },
  {
   "cell_type": "code",
   "execution_count": 7,
   "metadata": {
    "collapsed": true
   },
   "outputs": [],
   "source": [
    "comm_cols = [col_resource,col_mgr,col_rollup1,col_rollup2,col_dept,col_title,col_desc,col_family,col_code]"
   ]
  },
  {
   "cell_type": "code",
   "execution_count": 7,
   "metadata": {
    "collapsed": false
   },
   "outputs": [
    {
     "name": "stdout",
     "output_type": "stream",
     "text": [
      "The following are the # unique values in the train set:\n",
      "ACTION: 2\n",
      "RESOURCE: 7518\n",
      "MGR_ID: 4243\n",
      "ROLE_ROLLUP_1: 128\n",
      "ROLE_ROLLUP_2: 177\n",
      "ROLE_DEPTNAME: 449\n",
      "ROLE_TITLE: 343\n",
      "ROLE_FAMILY_DESC: 2358\n",
      "ROLE_FAMILY: 67\n",
      "ROLE_CODE: 343\n"
     ]
    }
   ],
   "source": [
    "print \"The following are the # unique values in the train set:\"\n",
    "for xcol in train_df.columns:\n",
    "    print \"%s: %i\" %(xcol,len(train_df[xcol].unique()))"
   ]
  },
  {
   "cell_type": "code",
   "execution_count": 8,
   "metadata": {
    "collapsed": false
   },
   "outputs": [
    {
     "data": {
      "text/plain": [
       "(343, 2)"
      ]
     },
     "execution_count": 8,
     "metadata": {},
     "output_type": "execute_result"
    }
   ],
   "source": [
    "# Check if there is a 1-1 mapping between ROLE_TITLE and ROLE_CODE\n",
    "train_df[[col_title,col_code]].drop_duplicates().shape"
   ]
  },
  {
   "cell_type": "markdown",
   "metadata": {},
   "source": [
    "Since there are the same no.of combinations as are unique values in Role_Title and Role_Code. There is a 1-1 mapping"
   ]
  },
  {
   "cell_type": "code",
   "execution_count": 9,
   "metadata": {
    "collapsed": false
   },
   "outputs": [
    {
     "data": {
      "text/plain": [
       "1    94.210992\n",
       "0     5.789008\n",
       "Name: ACTION, dtype: float64"
      ]
     },
     "execution_count": 9,
     "metadata": {},
     "output_type": "execute_result"
    }
   ],
   "source": [
    "# check the number of success and failures in actions\n",
    "train_df.ACTION.value_counts()*100/train_df.shape[0]"
   ]
  },
  {
   "cell_type": "code",
   "execution_count": 10,
   "metadata": {
    "collapsed": false
   },
   "outputs": [
    {
     "data": {
      "text/html": [
       "<div>\n",
       "<table border=\"1\" class=\"dataframe\">\n",
       "  <thead>\n",
       "    <tr style=\"text-align: right;\">\n",
       "      <th></th>\n",
       "      <th>variable</th>\n",
       "      <th>train_val</th>\n",
       "      <th>train_perc</th>\n",
       "      <th>train_unique</th>\n",
       "      <th>test_val</th>\n",
       "      <th>test_perc</th>\n",
       "      <th>test_unique</th>\n",
       "      <th>train_test_perc</th>\n",
       "    </tr>\n",
       "  </thead>\n",
       "  <tbody>\n",
       "    <tr>\n",
       "      <th>0</th>\n",
       "      <td>RESOURCE</td>\n",
       "      <td>4675</td>\n",
       "      <td>2.56</td>\n",
       "      <td>7518</td>\n",
       "      <td>4675</td>\n",
       "      <td>3.38</td>\n",
       "      <td>4971</td>\n",
       "      <td>100.00</td>\n",
       "    </tr>\n",
       "    <tr>\n",
       "      <th>1</th>\n",
       "      <td>MGR_ID</td>\n",
       "      <td>770</td>\n",
       "      <td>0.46</td>\n",
       "      <td>4243</td>\n",
       "      <td>770</td>\n",
       "      <td>0.47</td>\n",
       "      <td>4689</td>\n",
       "      <td>85.71</td>\n",
       "    </tr>\n",
       "    <tr>\n",
       "      <th>2</th>\n",
       "      <td>ROLE_ROLLUP_1</td>\n",
       "      <td>117961</td>\n",
       "      <td>65.33</td>\n",
       "      <td>128</td>\n",
       "      <td>117961</td>\n",
       "      <td>63.91</td>\n",
       "      <td>126</td>\n",
       "      <td>98.41</td>\n",
       "    </tr>\n",
       "    <tr>\n",
       "      <th>3</th>\n",
       "      <td>ROLE_ROLLUP_2</td>\n",
       "      <td>118300</td>\n",
       "      <td>13.50</td>\n",
       "      <td>177</td>\n",
       "      <td>118300</td>\n",
       "      <td>13.12</td>\n",
       "      <td>177</td>\n",
       "      <td>96.61</td>\n",
       "    </tr>\n",
       "    <tr>\n",
       "      <th>4</th>\n",
       "      <td>ROLE_DEPTNAME</td>\n",
       "      <td>117878</td>\n",
       "      <td>3.46</td>\n",
       "      <td>449</td>\n",
       "      <td>117878</td>\n",
       "      <td>3.84</td>\n",
       "      <td>466</td>\n",
       "      <td>94.21</td>\n",
       "    </tr>\n",
       "    <tr>\n",
       "      <th>5</th>\n",
       "      <td>ROLE_TITLE</td>\n",
       "      <td>118321</td>\n",
       "      <td>14.19</td>\n",
       "      <td>343</td>\n",
       "      <td>118321</td>\n",
       "      <td>12.62</td>\n",
       "      <td>351</td>\n",
       "      <td>94.87</td>\n",
       "    </tr>\n",
       "    <tr>\n",
       "      <th>6</th>\n",
       "      <td>ROLE_FAMILY_DESC</td>\n",
       "      <td>117906</td>\n",
       "      <td>21.04</td>\n",
       "      <td>2358</td>\n",
       "      <td>117906</td>\n",
       "      <td>18.84</td>\n",
       "      <td>2749</td>\n",
       "      <td>78.43</td>\n",
       "    </tr>\n",
       "    <tr>\n",
       "      <th>7</th>\n",
       "      <td>ROLE_FAMILY</td>\n",
       "      <td>290919</td>\n",
       "      <td>33.51</td>\n",
       "      <td>67</td>\n",
       "      <td>290919</td>\n",
       "      <td>30.35</td>\n",
       "      <td>68</td>\n",
       "      <td>98.53</td>\n",
       "    </tr>\n",
       "    <tr>\n",
       "      <th>8</th>\n",
       "      <td>ROLE_CODE</td>\n",
       "      <td>118322</td>\n",
       "      <td>14.19</td>\n",
       "      <td>343</td>\n",
       "      <td>118322</td>\n",
       "      <td>12.62</td>\n",
       "      <td>351</td>\n",
       "      <td>94.87</td>\n",
       "    </tr>\n",
       "  </tbody>\n",
       "</table>\n",
       "</div>"
      ],
      "text/plain": [
       "           variable  train_val  train_perc  train_unique  test_val  test_perc  \\\n",
       "0          RESOURCE       4675        2.56          7518      4675       3.38   \n",
       "1            MGR_ID        770        0.46          4243       770       0.47   \n",
       "2     ROLE_ROLLUP_1     117961       65.33           128    117961      63.91   \n",
       "3     ROLE_ROLLUP_2     118300       13.50           177    118300      13.12   \n",
       "4     ROLE_DEPTNAME     117878        3.46           449    117878       3.84   \n",
       "5        ROLE_TITLE     118321       14.19           343    118321      12.62   \n",
       "6  ROLE_FAMILY_DESC     117906       21.04          2358    117906      18.84   \n",
       "7       ROLE_FAMILY     290919       33.51            67    290919      30.35   \n",
       "8         ROLE_CODE     118322       14.19           343    118322      12.62   \n",
       "\n",
       "   test_unique  train_test_perc  \n",
       "0         4971           100.00  \n",
       "1         4689            85.71  \n",
       "2          126            98.41  \n",
       "3          177            96.61  \n",
       "4          466            94.21  \n",
       "5          351            94.87  \n",
       "6         2749            78.43  \n",
       "7           68            98.53  \n",
       "8          351            94.87  "
      ]
     },
     "execution_count": 10,
     "metadata": {},
     "output_type": "execute_result"
    }
   ],
   "source": [
    "# check for the most common value,#uniques and perc common between train and test in the columms\n",
    "val_lst = []\n",
    "for xcol in comm_cols:\n",
    "    # get the most common value in the columns\n",
    "    train_val = (train_df[xcol].value_counts()*100/float(train_df.shape[0]))\n",
    "    test_val = (test_df[xcol].value_counts()*100)/float(test_df.shape[0])\n",
    "    \n",
    "    # Whats percentage of values in test_set exist in trainset\n",
    "    train_values = train_df[xcol].unique().tolist()\n",
    "    # check what unique values in test_df exist in train_df\n",
    "    perc = test_df[[xcol]].drop_duplicates()\n",
    "    perc = perc.isin(train_values).sum()/perc.shape[0]\n",
    "    \n",
    "    val_lst = val_lst + [(xcol,\n",
    "                train_val.argmax(),np.round(train_val.max(),decimals=2),len(train_df[xcol].unique()),\n",
    "                          test_val.argmax(),np.round(test_val.max(),decimals=2),len(test_df[xcol].unique()),\n",
    "                          np.round(perc[0]*100,decimals=2))]\n",
    "\n",
    "del train_val, test_val,train_values\n",
    "\n",
    "pd.DataFrame(val_lst,columns=['variable','train_val','train_perc','train_unique',\n",
    "                              'test_val','test_perc','test_unique','train_test_perc'])\n"
   ]
  },
  {
   "cell_type": "markdown",
   "metadata": {},
   "source": [
    "Check the distribution in the train columns. We set the ylim to 50 so as to see all the instances in the column"
   ]
  },
  {
   "cell_type": "code",
   "execution_count": 11,
   "metadata": {
    "collapsed": false
   },
   "outputs": [
    {
     "data": {
      "text/plain": [
       "<matplotlib.figure.Figure at 0xc4187f0>"
      ]
     },
     "metadata": {},
     "output_type": "display_data"
    },
    {
     "data": {
      "image/png": "[encoded data removed]",
      "text/plain": [
       "<matplotlib.figure.Figure at 0xbd0e2e8>"
      ]
     },
     "metadata": {},
     "output_type": "display_data"
    },
    {
     "data": {
      "image/png": "[encoded data removed]",
      "text/plain": [
       "<matplotlib.figure.Figure at 0xef56e80>"
      ]
     },
     "metadata": {},
     "output_type": "display_data"
    },
    {
     "data": {
      "image/png": "[encoded data removed]",
      "text/plain": [
       "<matplotlib.figure.Figure at 0xf0b8828>"
      ]
     },
     "metadata": {},
     "output_type": "display_data"
    }
   ],
   "source": [
    "row1_cols = [col_resource,col_mgr,col_rollup1]\n",
    "row2_cols = [col_desc,col_title,col_rollup2]\n",
    "row3_cols = [col_family,col_code,col_dept]\n",
    "x = plt.figure(figsize=(20,20))\n",
    "\n",
    "for rowcols in (row1_cols,row2_cols,row3_cols):    \n",
    "    temp_df = (train_df[rowcols].stack()).reset_index()\n",
    "    temp_df.columns = ['idx','variable','value']\n",
    "    g = sns.FacetGrid(temp_df,col='variable',sharex=True,size=4,aspect=1.5,ylim=[0,100])\n",
    "    g = g.map(plt.hist,'value',bins=50)\n",
    "\n",
    "del x,temp_df"
   ]
  },
  {
   "cell_type": "code",
   "execution_count": 49,
   "metadata": {
    "collapsed": false
   },
   "outputs": [
    {
     "data": {
      "text/plain": [
       "Index([u'pca1', u'pca2', u'action'], dtype='object')"
      ]
     },
     "execution_count": 49,
     "metadata": {},
     "output_type": "execute_result"
    }
   ],
   "source": [
    "from sklearn.decomposition import PCA\n",
    "pca2 = PCA(n_components=2)\n",
    "comm_cols =[col_rollup1,col_rollup2,col_dept,col_title,col_desc,col_family]\n",
    "pca2 = pca2.fit_transform(train_df[comm_cols])\n",
    "temp_df = pd.DataFrame(pca2,columns=['pca1','pca2'])\n",
    "temp_df['action'] = train_df[col_action]\n",
    "temp_df.columns"
   ]
  },
  {
   "cell_type": "code",
   "execution_count": 50,
   "metadata": {
    "collapsed": false
   },
   "outputs": [
    {
     "data": {
      "text/plain": [
       "<seaborn.axisgrid.FacetGrid at 0x10c88c88>"
      ]
     },
     "execution_count": 50,
     "metadata": {},
     "output_type": "execute_result"
    },
    {
     "data": {
      "image/png": "[encoded data removed]",
      "text/plain": [
       "<matplotlib.figure.Figure at 0x10c741d0>"
      ]
     },
     "metadata": {},
     "output_type": "display_data"
    }
   ],
   "source": [
    "g = sns.FacetGrid(temp_df,row='action',hue='action',aspect=4,size=4)\n",
    "g.map(plt.scatter,'pca1','pca2')"
   ]
  },
  {
   "cell_type": "code",
   "execution_count": 31,
   "metadata": {
    "collapsed": false
   },
   "outputs": [],
   "source": [
    "# function to find the probability of success for the given column combinations.\n",
    "def perc_success(df,cols,col_name,test_df,del_temp=True,del_cols=''):\n",
    "    \"\"\"\n",
    "    Function calculates the probability of acess based on the given column combinations. Then merge the probability to \n",
    "    the test set based on the column combination values.\n",
    "    \"\"\"\n",
    "    test_df_temp = test_df.copy()\n",
    "    print \" Finding the probability of success for the following column combinations:\\n%s\" %cols\n",
    "    temp_df = df.copy()\n",
    "    \n",
    "    temp_col = 'temp_' + col_name\n",
    "    temp_df[temp_col] = temp_df[cols].astype(str).apply(lambda x:'_'.join(x),axis=1)\n",
    "    per_val = temp_df.groupby(temp_col)[col_action].value_counts().unstack().apply(lambda x:x/sum(x),axis=1)[1].reset_index()\n",
    "    \n",
    "    # rename the column name to the col_name value\n",
    "    per_val.rename(columns={1:col_name,'index':temp_col},inplace=True)\n",
    "    \n",
    "    #merge the data on the temp_col if the merge does not add duplicate rows\n",
    "    if temp_df.merge(per_val,on=temp_col,how='left').shape[0] == temp_df.shape[0]:\n",
    "        temp_df = temp_df.merge(per_val,on=temp_col,how='left')\n",
    "    else:\n",
    "        raise ValueError(\"The merge introduces duplicate values. Check\")\n",
    "    \n",
    "    # create the same feature for the test set\n",
    "    test_df_temp[temp_col] = test_df_temp[cols].astype(str).apply(lambda x:'_'.join(x),axis=1)\n",
    "    \n",
    "    #merge the feature to the test_set\n",
    "    test_df_temp2 = test_df_temp.merge(temp_df[[temp_col,col_name]].drop_duplicates(),on=temp_col,how='left').fillna(0)\n",
    "    if test_df_temp2.shape[0] != test_df_temp.shape[0]:\n",
    "        raise ValueError(\"Merge error\")\n",
    "    \n",
    "    # delete the columns\n",
    "    if len(del_cols) >0:\n",
    "        temp_df = temp_df.drop(del_cols,axis=1)\n",
    "        test_df_temp2 = test_df_temp2.drop(del_cols,axis=1)\n",
    "    \n",
    "     \n",
    "    if del_temp:\n",
    "        del temp_df[temp_col]\n",
    "        del test_df_temp2[temp_col]\n",
    " \n",
    "    # create dummy values for all columns except the feat created\n",
    "    dummy_cols = [x for x in temp_df.columns if x not in [col_name,col_action,col_code,col_mgr,col_resource]]\n",
    "    temp_df = getdummies(temp_df,dummy_cols)\n",
    "    \n",
    "    return temp_df,test_df_temp2    "
   ]
  },
  {
   "cell_type": "code",
   "execution_count": 34,
   "metadata": {
    "collapsed": true
   },
   "outputs": [],
   "source": [
    "def getdummies(df,cols):\n",
    "    \"\"\"\n",
    "    Function to create dummies for the given columns\n",
    "    \"\"\"\n",
    "    dummy_df = pd.DataFrame()\n",
    "    for xcol in cols:\n",
    "        print \"Creating dummy for: %s\" %xcol\n",
    "        tempdf = pd.get_dummies(df[xcol],sparse=True)\n",
    "        # rename the columns to differentiate between dummies from different columns\n",
    "        tempdf.columns = [xcol + str(x) for x in tempdf.columns]\n",
    "        dummy_df = pd.concat([dummy_df,tempdf])\n",
    "    \n",
    "    # delete the cols from df and concat the dummy_df\n",
    "    df = df.drop(cols,axis=1)\n",
    "    # convert df to sparse dataset\n",
    "    df = df.to_sparse()\n",
    "    df =pd.concat([df,dummy_df])\n",
    "    \n",
    "    print \"completed creating dummies\"\n",
    "    \n",
    "    return df"
   ]
  },
  {
   "cell_type": "code",
   "execution_count": 35,
   "metadata": {
    "collapsed": false
   },
   "outputs": [
    {
     "name": "stdout",
     "output_type": "stream",
     "text": [
      " Finding the probability of success for the following column combinations:\n",
      "['ROLE_ROLLUP_1', 'ROLE_ROLLUP_2']\n",
      "Creating dummy for: ROLE_DEPTNAME\n",
      "Creating dummy for: ROLE_TITLE\n",
      "Creating dummy for: ROLE_FAMILY_DESC\n",
      "Creating dummy for: ROLE_FAMILY\n",
      "completed creating dummies\n"
     ]
    }
   ],
   "source": [
    "comb_cols = [col_rollup1,col_rollup2]\n",
    "tempx,tempy = perc_success(train_df,comb_cols,'feat1',test_df,del_cols=comb_cols)"
   ]
  },
  {
   "cell_type": "code",
   "execution_count": 13,
   "metadata": {
    "collapsed": true
   },
   "outputs": [],
   "source": [
    "def perc_comm(comm_cols):\n",
    "    \"\"\"\n",
    "    Function which identifies the percentage of unique column combination values of the train data that also exist in the test \n",
    "    data\n",
    "    \"\"\"\n",
    "    df_train = train_df[comm_cols].drop_duplicates().astype(str).apply(lambda x:'_'.join(x),axis=1)\n",
    "    df_test = test_df[comm_cols].astype(str).apply(lambda x:'_'.join(x),axis=1)\n",
    "    comm_value = df_test.isin(df_train).sum()*100/float(df_test.shape[0])\n",
    "    print \"For the %s columns, %0.2f entries in testset also exist in the train_set\" %(comm_cols,comm_value)    "
   ]
  },
  {
   "cell_type": "code",
   "execution_count": 15,
   "metadata": {
    "collapsed": false
   },
   "outputs": [
    {
     "name": "stdout",
     "output_type": "stream",
     "text": [
      "For the ['ROLE_ROLLUP_1', 'ROLE_FAMILY'] columns, 99.65 entries in testset also exist in the train_set\n",
      "For the ['ROLE_ROLLUP_1', 'ROLE_FAMILY_DESC'] columns, 96.78 entries in testset also exist in the train_set\n",
      "For the ['ROLE_ROLLUP_1', 'ROLE_TITLE'] columns, 98.96 entries in testset also exist in the train_set\n"
     ]
    }
   ],
   "source": [
    "perc_comm([col_rollup1,col_family])\n",
    "perc_comm([col_rollup1,col_desc])\n",
    "perc_comm([col_rollup1,col_title])"
   ]
  },
  {
   "cell_type": "code",
   "execution_count": 16,
   "metadata": {
    "collapsed": true
   },
   "outputs": [],
   "source": [
    "from sklearn.ensemble import RandomForestClassifier\n",
    "from sklearn.cross_validation import train_test_split\n",
    "from sklearn.cross_validation import cross_val_score\n",
    "from sklearn.metrics import roc_auc_score"
   ]
  },
  {
   "cell_type": "code",
   "execution_count": 23,
   "metadata": {
    "collapsed": true
   },
   "outputs": [],
   "source": [
    "def run_algo(alg,temp_train_df,getX_test=False):\n",
    "    \"\"\"\n",
    "    Function to split the training data into train and test set, fir the alogrithm to the data and get the prediction.\n",
    "    \n",
    "    \"\"\"\n",
    "    \n",
    "#     if len(del_cols) > 0:\n",
    "#         #drop the reuired columns\n",
    "#         temp_train_df = temp_train_df.drop(del_cols,axis=1)\n",
    "        \n",
    "    # fill the null values with 0\n",
    "    temp_train_df = temp_train_df.fillna(0)\n",
    "    \n",
    "    # split the temp_train_df into train and test sets\n",
    "    #set the random_state so that all the algos are tested on the same dataset\n",
    "    #set the seed\n",
    "    random.seed(1985)\n",
    "    X_train,X_test,y_train,y_test = train_test_split(temp_train_df.iloc[:,1:],temp_train_df[col_action],test_size=0.3,\n",
    "                                                 stratify=temp_train_df[col_action],random_state=156)\n",
    "    \n",
    "    print \"X_test index: %i\" %(sum(X_test.index))\n",
    "    \n",
    "    # fit the model \n",
    "    alg = alg.fit(X_train,y_train)\n",
    "    y_predict = pd.DataFrame(alg.predict(X_test),columns=['predicted'])\n",
    "    y_predict.index = X_test.index\n",
    "\n",
    "        \n",
    "    print \"Feature importance:\\n%s\" %(pd.DataFrame(zip(X_train.columns,np.round(alg.feature_importances_,3)),columns=['name',\n",
    "                                                                                                                     'val']))\n",
    "    print \"The area under the curve score for the test set:%0.3f\" %(roc_auc_score(y_test,y_predict))\n",
    "    \n",
    "    #concat the X_test values for analysis\n",
    "    if getX_test:\n",
    "        y_predict = pd.concat([X_test,y_predict],axis=1)\n",
    "    \n",
    "    \n",
    "#     # get the score of the test set\n",
    "#     score = alg.score(X_test,y_test)\n",
    "#     print \"The score on the test set is %f\" %(score)\n",
    "\n",
    "    return alg,y_predict"
   ]
  },
  {
   "cell_type": "code",
   "execution_count": 45,
   "metadata": {
    "collapsed": false
   },
   "outputs": [],
   "source": [
    "def run_random_forest(col_combinations):\n",
    "    \"\"\"\n",
    "    Function that runs random forest for different combination features and gets the average prediction of the different \n",
    "    combinations\n",
    "    \"\"\"\n",
    "    predict_df = pd.DataFrame()\n",
    "    y_predict_df = pd.DataFrame()\n",
    "    \n",
    "    for i,xcombo in enumerate(col_combinations):\n",
    "        xcombo = np.array(xcombo).tolist()\n",
    "        if isinstance(xcombo,np.str):\n",
    "            xcombo = [xcombo]  \n",
    "        # get the feature based on the combination\n",
    "        delcols= [col_resource,col_code,col_mgr] + xcombo\n",
    "        \n",
    "        temp_train_df,temp_test_df = perc_success(train_df,xcombo,'feat',test_df,del_temp=True,del_cols=delcols)\n",
    "#         print temp_train_df.columns,temp_test_df.columns\n",
    "        alg1 = RandomForestClassifier(class_weight={0:6,1:1},n_estimators=300,min_samples_leaf=3)\n",
    "        get_x_test = False\n",
    "        alg1,y_pred = run_algo(alg1,temp_train_df,get_x_test)\n",
    "        # add the feat values \n",
    "        y_pred['feat'] = temp_train_df.loc[y_pred.index,'feat']\n",
    "        y_pred.columns = [x +'_' + str(i) for x in y_pred.columns]\n",
    "        \n",
    "        # prediction for test_df\n",
    "        predict1 = pd.DataFrame(alg1.predict(temp_test_df.iloc[:,1:]),columns=['alg_' +str(i)])\n",
    "        # concat to main predict_df. concat on column\n",
    "        predict_df = pd.concat([predict_df,predict1],axis=1)\n",
    "        y_predict_df = pd.concat([y_predict_df,y_pred],axis=1)    \n",
    "    \n",
    "    # get the final prediction based on popular vote.\n",
    "    predict_df[col_action] = (predict_df.mean(axis=1)).round()\n",
    "    # merge the id columns\n",
    "    predict_df['id'] = test_df['id']\n",
    "    \n",
    "    output_df = predict_df[['id',col_action]]\n",
    "    \n",
    "    # compute the ROC curve value for the combined prediction\n",
    "    y_true = train_df.loc[y_predict_df.index,col_action]\n",
    "    pred_cols = [x for x in y_predict_df.columns if 'predicted' in x]\n",
    "    y_predict_df['final'] = (y_predict_df[pred_cols].mean(axis=1)).round()\n",
    "    print \"\\nThe AUC for the combiend prediction:%0.3f\" %(roc_auc_score(y_true,y_predict_df['final']))\n",
    "    \n",
    "    # concat the y_true value \n",
    "    y_predict_df['actual'] = train_df.loc[y_predict_df.index,col_action]\n",
    "    y_predict_df['false_pos'] = (y_predict_df.final ==1) & (y_predict_df.actual ==0)\n",
    "    y_predict_df['false_neg'] = (y_predict_df.final ==0) & (y_predict_df.actual ==1)\n",
    "    \n",
    "    print y_predict_df[['false_pos','false_neg']].sum()\n",
    "    \n",
    "    return output_df,y_predict_df"
   ]
  },
  {
   "cell_type": "code",
   "execution_count": 46,
   "metadata": {
    "collapsed": false
   },
   "outputs": [
    {
     "name": "stdout",
     "output_type": "stream",
     "text": [
      " Finding the probability of success for the following column combinations:\n",
      "['ROLE_TITLE', 'ROLE_DEPTNAME']\n",
      "X_test index: 161776191\n",
      "Feature importance:\n",
      "               name    val\n",
      "0     ROLE_ROLLUP_1  0.065\n",
      "1     ROLE_ROLLUP_2  0.096\n",
      "2  ROLE_FAMILY_DESC  0.140\n",
      "3       ROLE_FAMILY  0.061\n",
      "4              feat  0.637\n",
      "The area under the curve score for the test set:0.758\n",
      " Finding the probability of success for the following column combinations:\n",
      "['ROLE_ROLLUP_1', 'ROLE_DEPTNAME', 'ROLE_FAMILY_DESC']\n",
      "X_test index: 161776191\n",
      "Feature importance:\n",
      "            name    val\n",
      "0  ROLE_ROLLUP_2  0.113\n",
      "1     ROLE_TITLE  0.095\n",
      "2    ROLE_FAMILY  0.061\n",
      "3           feat  0.731\n",
      "The area under the curve score for the test set:0.787\n",
      " Finding the probability of success for the following column combinations:\n",
      "['ROLE_FAMILY_DESC', 'ROLE_DEPTNAME']\n",
      "X_test index: 161776191\n",
      "Feature importance:\n",
      "            name    val\n",
      "0  ROLE_ROLLUP_1  0.064\n",
      "1  ROLE_ROLLUP_2  0.095\n",
      "2     ROLE_TITLE  0.104\n",
      "3    ROLE_FAMILY  0.064\n",
      "4           feat  0.672\n",
      "The area under the curve score for the test set:0.788\n",
      "\n",
      "The AUC for the combiend prediction:0.784\n",
      "false_pos    209\n",
      "false_neg    608\n",
      "dtype: int64\n"
     ]
    }
   ],
   "source": [
    "combos = [(col_title,col_dept),(col_rollup1,col_dept,col_desc),(col_desc,col_dept)]\n",
    "# combos2 =[(col_rollup1,col_desc,col_dept,col_title)]\n",
    "temp1,temp2 = run_random_forest(combos)\n",
    "temp3 = pd.concat([train_df.loc[temp2.index,:],temp2],axis=1)"
   ]
  },
  {
   "cell_type": "code",
   "execution_count": 47,
   "metadata": {
    "collapsed": false
   },
   "outputs": [],
   "source": [
    "temp1.to_csv(loc_dir + 'test7.csv',index=False)"
   ]
  },
  {
   "cell_type": "markdown",
   "metadata": {},
   "source": [
    "## MISC"
   ]
  },
  {
   "cell_type": "code",
   "execution_count": null,
   "metadata": {
    "collapsed": true
   },
   "outputs": [],
   "source": [
    "n_samples / (n_classes * np.bincount(y))"
   ]
  },
  {
   "cell_type": "code",
   "execution_count": 43,
   "metadata": {
    "collapsed": false
   },
   "outputs": [
    {
     "data": {
      "text/plain": [
       "array([ 8.63705851,  0.53072363])"
      ]
     },
     "execution_count": 43,
     "metadata": {},
     "output_type": "execute_result"
    }
   ],
   "source": [
    "float(train_df.shape[0])/(2* np.bincount(train_df.ACTION))"
   ]
  },
  {
   "cell_type": "code",
   "execution_count": 40,
   "metadata": {
    "collapsed": false
   },
   "outputs": [
    {
     "data": {
      "text/plain": [
       "1    30872\n",
       "0     1897\n",
       "Name: ACTION, dtype: int64"
      ]
     },
     "execution_count": 40,
     "metadata": {},
     "output_type": "execute_result"
    }
   ],
   "source": [
    "train_df.ACTION.value_counts()"
   ]
  },
  {
   "cell_type": "code",
   "execution_count": 44,
   "metadata": {
    "collapsed": false
   },
   "outputs": [
    {
     "data": {
      "text/plain": [
       "(0.530723633065561, 8.637058513442277)"
      ]
     },
     "execution_count": 44,
     "metadata": {},
     "output_type": "execute_result"
    }
   ],
   "source": [
    "train_df.shape[0]/(2*30872.0),train_df.shape[0]/(2*1897.0)"
   ]
  },
  {
   "cell_type": "code",
   "execution_count": null,
   "metadata": {
    "collapsed": true
   },
   "outputs": [],
   "source": []
  },
  {
   "cell_type": "code",
   "execution_count": 217,
   "metadata": {
    "collapsed": false
   },
   "outputs": [
    {
     "data": {
      "text/plain": [
       "array([[<matplotlib.axes._subplots.AxesSubplot object at 0x000000001968B3C8>,\n",
       "        <matplotlib.axes._subplots.AxesSubplot object at 0x000000002247F860>]], dtype=object)"
      ]
     },
     "execution_count": 217,
     "metadata": {},
     "output_type": "execute_result"
    },
    {
     "data": {
      "image/png": "[encoded data removed]",
      "text/plain": [
       "<matplotlib.figure.Figure at 0x22634cc0>"
      ]
     },
     "metadata": {},
     "output_type": "display_data"
    }
   ],
   "source": [
    "feat_cols = [x for x in temp3.columns if 'feat_' in x]\n",
    "temp3[temp3.false_pos][feat_cols].hist(figsize=(10,10))"
   ]
  },
  {
   "cell_type": "code",
   "execution_count": 211,
   "metadata": {
    "collapsed": false
   },
   "outputs": [
    {
     "name": "stdout",
     "output_type": "stream",
     "text": [
      " Finding the probability of success for the following column combinations:\n",
      "['ROLE_TITLE']\n",
      "X_test index: 161776191\n",
      "Feature importance:\n",
      "               name    val\n",
      "0     ROLE_ROLLUP_1  0.079\n",
      "1     ROLE_ROLLUP_2  0.155\n",
      "2     ROLE_DEPTNAME  0.251\n",
      "3  ROLE_FAMILY_DESC  0.184\n",
      "4       ROLE_FAMILY  0.076\n",
      "5              feat  0.255\n",
      "The area under the curve score for the test set:0.752\n",
      " Finding the probability of success for the following column combinations:\n",
      "['ROLE_ROLLUP_1', 'ROLE_DEPTNAME', 'ROLE_FAMILY_DESC']\n",
      "X_test index: 161776191\n",
      "Feature importance:\n",
      "            name    val\n",
      "0  ROLE_ROLLUP_2  0.121\n",
      "1     ROLE_TITLE  0.097\n",
      "2    ROLE_FAMILY  0.069\n",
      "3           feat  0.714\n",
      "The area under the curve score for the test set:0.800\n",
      "['predicted_0', 'predicted_1']\n",
      "\n",
      "The AUC for the combiend prediction:0.802\n",
      "false_pos     152\n",
      "false_neg    1198\n",
      "dtype: int64\n"
     ]
    }
   ],
   "source": [
    "combos = [(col_title),(col_rollup1,col_dept,col_desc)]\n",
    "combos2 =[(col_rollup1,col_desc,col_dept,col_title)]\n",
    "temp1,temp2 = run_random_forest(combos)\n",
    "temp3 = pd.concat([train_df.loc[temp2.index,:],temp2],axis=1)"
   ]
  },
  {
   "cell_type": "code",
   "execution_count": 212,
   "metadata": {
    "collapsed": false
   },
   "outputs": [
    {
     "data": {
      "text/plain": [
       "array([[<matplotlib.axes._subplots.AxesSubplot object at 0x0000000015E88C50>,\n",
       "        <matplotlib.axes._subplots.AxesSubplot object at 0x00000000184F76A0>]], dtype=object)"
      ]
     },
     "execution_count": 212,
     "metadata": {},
     "output_type": "execute_result"
    },
    {
     "data": {
      "image/png": "[encoded data removed]",
      "text/plain": [
       "<matplotlib.figure.Figure at 0x18317f98>"
      ]
     },
     "metadata": {},
     "output_type": "display_data"
    }
   ],
   "source": [
    "feat_cols = [x for x in temp3.columns if 'feat_' in x]\n",
    "temp3[temp3.false_pos][feat_cols].hist(figsize=(10,10))"
   ]
  },
  {
   "cell_type": "code",
   "execution_count": 133,
   "metadata": {
    "collapsed": false
   },
   "outputs": [
    {
     "name": "stdout",
     "output_type": "stream",
     "text": [
      " Finding the probability of success for the following column combinations:\n",
      "['ROLE_ROLLUP_1', 'ROLE_DEPTNAME', 'ROLE_FAMILY_DESC']\n",
      "X_test index: 161776191\n",
      "Feature importance:\n",
      "            name    val\n",
      "0  ROLE_ROLLUP_2  0.119\n",
      "1     ROLE_TITLE  0.097\n",
      "2    ROLE_FAMILY  0.068\n",
      "3           feat  0.717\n",
      "The area under the curve score for the test set:0.799\n",
      " Finding the probability of success for the following column combinations:\n",
      "['ROLE_TITLE', 'ROLE_ROLLUP_2']\n",
      "X_test index: 161776191\n",
      "Feature importance:\n",
      "               name    val\n",
      "0     ROLE_ROLLUP_1  0.056\n",
      "1     ROLE_DEPTNAME  0.194\n",
      "2  ROLE_FAMILY_DESC  0.130\n",
      "3       ROLE_FAMILY  0.062\n",
      "4              feat  0.557\n",
      "The area under the curve score for the test set:0.772\n",
      " Finding the probability of success for the following column combinations:\n",
      "['ROLE_ROLLUP_1', 'ROLE_FAMILY_DESC', 'ROLE_ROLLUP_2']\n",
      "X_test index: 161776191\n",
      "Feature importance:\n",
      "            name    val\n",
      "0  ROLE_DEPTNAME  0.206\n",
      "1     ROLE_TITLE  0.098\n",
      "2    ROLE_FAMILY  0.064\n",
      "3           feat  0.632\n",
      "The area under the curve score for the test set:0.787\n",
      " Finding the probability of success for the following column combinations:\n",
      "['ROLE_ROLLUP_1', 'ROLE_FAMILY_DESC']\n",
      "X_test index: 161776191\n",
      "Feature importance:\n",
      "            name    val\n",
      "0  ROLE_ROLLUP_2  0.138\n",
      "1  ROLE_DEPTNAME  0.211\n",
      "2     ROLE_TITLE  0.106\n",
      "3    ROLE_FAMILY  0.067\n",
      "4           feat  0.478\n",
      "The area under the curve score for the test set:0.787\n",
      "\n",
      "The AUC for the combiend prediction:0.796\n",
      "false_pos     165\n",
      "false_neg    1096\n",
      "dtype: int64\n"
     ]
    }
   ],
   "source": [
    "combos = [(col_rollup1,col_dept,col_desc),(col_title,col_rollup2),(col_rollup1,col_desc,col_rollup2),(col_rollup1,col_desc),]\n",
    "#           (col_title,col_family),(col_title,col_desc)]\n",
    "\n",
    "combos2 =[(col_rollup1,col_desc,col_dept,col_title)]\n",
    "temp1,temp2 = run_random_forest(combos)\n",
    "temp3 = pd.concat([train_df.loc[temp2.index,:],temp2],axis=1)"
   ]
  },
  {
   "cell_type": "code",
   "execution_count": 136,
   "metadata": {
    "collapsed": false
   },
   "outputs": [],
   "source": [
    "temp1.to_csv(loc_dir + 'test5.csv',index=False)"
   ]
  },
  {
   "cell_type": "code",
   "execution_count": 134,
   "metadata": {
    "collapsed": false
   },
   "outputs": [
    {
     "data": {
      "text/plain": [
       "array([[<matplotlib.axes._subplots.AxesSubplot object at 0x000000000C786B38>,\n",
       "        <matplotlib.axes._subplots.AxesSubplot object at 0x00000000231EC5C0>],\n",
       "       [<matplotlib.axes._subplots.AxesSubplot object at 0x000000002BF9AC88>,\n",
       "        <matplotlib.axes._subplots.AxesSubplot object at 0x0000000017F10B70>]], dtype=object)"
      ]
     },
     "execution_count": 134,
     "metadata": {},
     "output_type": "execute_result"
    },
    {
     "data": {
      "image/png": "[encoded data removed]",
      "text/plain": [
       "<matplotlib.figure.Figure at 0x23195f28>"
      ]
     },
     "metadata": {},
     "output_type": "display_data"
    }
   ],
   "source": [
    "feat_cols = [x for x in temp3.columns if 'feat_' in x]\n",
    "temp3[temp3.false_pos][feat_cols].hist(figsize=(10,10))"
   ]
  },
  {
   "cell_type": "code",
   "execution_count": 127,
   "metadata": {
    "collapsed": false
   },
   "outputs": [
    {
     "name": "stdout",
     "output_type": "stream",
     "text": [
      " Finding the probability of success for the following column combinations:\n",
      "['ROLE_ROLLUP_1', 'ROLE_DEPTNAME', 'ROLE_FAMILY_DESC']\n",
      "X_test index: 161776191\n",
      "Feature importance:\n",
      "            name    val\n",
      "0  ROLE_ROLLUP_2  0.120\n",
      "1     ROLE_TITLE  0.097\n",
      "2    ROLE_FAMILY  0.068\n",
      "3           feat  0.715\n",
      "The area under the curve score for the test set:0.798\n",
      " Finding the probability of success for the following column combinations:\n",
      "['ROLE_TITLE', 'ROLE_ROLLUP_2']\n",
      "X_test index: 161776191\n",
      "Feature importance:\n",
      "               name    val\n",
      "0     ROLE_ROLLUP_1  0.053\n",
      "1     ROLE_DEPTNAME  0.192\n",
      "2  ROLE_FAMILY_DESC  0.132\n",
      "3       ROLE_FAMILY  0.061\n",
      "4              feat  0.563\n",
      "The area under the curve score for the test set:0.771\n",
      " Finding the probability of success for the following column combinations:\n",
      "['ROLE_ROLLUP_1', 'ROLE_DEPTNAME']\n",
      "X_test index: 161776191\n",
      "Feature importance:\n",
      "               name    val\n",
      "0     ROLE_ROLLUP_2  0.121\n",
      "1        ROLE_TITLE  0.117\n",
      "2  ROLE_FAMILY_DESC  0.158\n",
      "3       ROLE_FAMILY  0.073\n",
      "4              feat  0.531\n",
      "The area under the curve score for the test set:0.774\n",
      " Finding the probability of success for the following column combinations:\n",
      "['ROLE_ROLLUP_1', 'ROLE_FAMILY_DESC']\n",
      "X_test index: 161776191\n",
      "Feature importance:\n",
      "            name    val\n",
      "0  ROLE_ROLLUP_2  0.140\n",
      "1  ROLE_DEPTNAME  0.210\n",
      "2     ROLE_TITLE  0.106\n",
      "3    ROLE_FAMILY  0.068\n",
      "4           feat  0.477\n",
      "The area under the curve score for the test set:0.779\n",
      "\n",
      "The AUC for the combiend prediction:0.790\n",
      "false_pos     171\n",
      "false_neg    1100\n",
      "dtype: int64\n"
     ]
    }
   ],
   "source": [
    "combos = [(col_rollup1,col_dept,col_desc),(col_title,col_rollup2),(col_rollup1,col_dept),(col_rollup1,col_desc)]\n",
    "#           (col_title,col_family),(col_title,col_desc)]\n",
    "\n",
    "combos2 =[(col_rollup1,col_desc,col_dept,col_title)]\n",
    "temp1,temp2 = run_random_forest(combos)\n",
    "temp3 = pd.concat([train_df.loc[temp2.index,:],temp2],axis=1)"
   ]
  },
  {
   "cell_type": "code",
   "execution_count": 117,
   "metadata": {
    "collapsed": false
   },
   "outputs": [
    {
     "data": {
      "text/plain": [
       "false_pos     2\n",
       "false_neg    58\n",
       "dtype: int64"
      ]
     },
     "execution_count": 117,
     "metadata": {},
     "output_type": "execute_result"
    }
   ],
   "source": [
    "temp3[(temp3.feat_0 < 0.5)][['false_pos','false_neg']].sum()"
   ]
  },
  {
   "cell_type": "code",
   "execution_count": 130,
   "metadata": {
    "collapsed": false
   },
   "outputs": [
    {
     "data": {
      "text/plain": [
       "array([[<matplotlib.axes._subplots.AxesSubplot object at 0x00000000204311D0>,\n",
       "        <matplotlib.axes._subplots.AxesSubplot object at 0x00000000150CE5F8>],\n",
       "       [<matplotlib.axes._subplots.AxesSubplot object at 0x000000001823B668>,\n",
       "        <matplotlib.axes._subplots.AxesSubplot object at 0x00000000241AA860>]], dtype=object)"
      ]
     },
     "execution_count": 130,
     "metadata": {},
     "output_type": "execute_result"
    },
    {
     "data": {
      "image/png": "[encoded data removed]",
      "text/plain": [
       "<matplotlib.figure.Figure at 0x2213cef0>"
      ]
     },
     "metadata": {},
     "output_type": "display_data"
    }
   ],
   "source": [
    "feat_cols = [x for x in temp3.columns if 'feat_' in x]\n",
    "temp3[temp3.false_pos][feat_cols].hist(figsize=(10,10))"
   ]
  },
  {
   "cell_type": "code",
   "execution_count": 128,
   "metadata": {
    "collapsed": false
   },
   "outputs": [
    {
     "data": {
      "text/plain": [
       "array([[<matplotlib.axes._subplots.AxesSubplot object at 0x000000000EC84DA0>,\n",
       "        <matplotlib.axes._subplots.AxesSubplot object at 0x000000000FA0A0F0>],\n",
       "       [<matplotlib.axes._subplots.AxesSubplot object at 0x000000002103E160>,\n",
       "        <matplotlib.axes._subplots.AxesSubplot object at 0x000000002D539978>]], dtype=object)"
      ]
     },
     "execution_count": 128,
     "metadata": {},
     "output_type": "execute_result"
    },
    {
     "data": {
      "image/png": "[encoded data removed]",
      "text/plain": [
       "<matplotlib.figure.Figure at 0x20431630>"
      ]
     },
     "metadata": {},
     "output_type": "display_data"
    }
   ],
   "source": [
    "feat_cols = [x for x in temp3.columns if 'feat_' in x]\n",
    "temp3[temp3.false_pos][feat_cols].hist(figsize=(10,10))"
   ]
  },
  {
   "cell_type": "code",
   "execution_count": 122,
   "metadata": {
    "collapsed": false
   },
   "outputs": [
    {
     "data": {
      "text/plain": [
       "array([[<matplotlib.axes._subplots.AxesSubplot object at 0x00000000112419B0>,\n",
       "        <matplotlib.axes._subplots.AxesSubplot object at 0x000000000BC73588>],\n",
       "       [<matplotlib.axes._subplots.AxesSubplot object at 0x000000000C9095C0>,\n",
       "        <matplotlib.axes._subplots.AxesSubplot object at 0x000000000F5836D8>]], dtype=object)"
      ]
     },
     "execution_count": 122,
     "metadata": {},
     "output_type": "execute_result"
    },
    {
     "data": {
      "image/png": "[encoded data removed]",
      "text/plain": [
       "<matplotlib.figure.Figure at 0xbd134e0>"
      ]
     },
     "metadata": {},
     "output_type": "display_data"
    }
   ],
   "source": [
    "feat_cols = [x for x in temp3.columns if 'feat_' in x]\n",
    "temp3[temp3.false_pos][feat_cols].hist(figsize=(10,10))"
   ]
  },
  {
   "cell_type": "code",
   "execution_count": 124,
   "metadata": {
    "collapsed": false
   },
   "outputs": [
    {
     "data": {
      "text/plain": [
       "(175, 20)"
      ]
     },
     "execution_count": 124,
     "metadata": {},
     "output_type": "execute_result"
    }
   ],
   "source": [
    "temp3[temp3.false_pos]"
   ]
  },
  {
   "cell_type": "code",
   "execution_count": null,
   "metadata": {
    "collapsed": true
   },
   "outputs": [],
   "source": []
  },
  {
   "cell_type": "code",
   "execution_count": 75,
   "metadata": {
    "collapsed": false
   },
   "outputs": [
    {
     "data": {
      "text/plain": [
       "ACTION                1\n",
       "RESOURCE            145\n",
       "MGR_ID              161\n",
       "ROLE_ROLLUP_1        37\n",
       "ROLE_ROLLUP_2        54\n",
       "ROLE_DEPTNAME       103\n",
       "ROLE_TITLE           71\n",
       "ROLE_FAMILY_DESC     99\n",
       "ROLE_FAMILY          29\n",
       "ROLE_CODE            71\n",
       "predicted_0           2\n",
       "predicted_1           2\n",
       "predicted_2           2\n",
       "final                 1\n",
       "actual                1\n",
       "false_pos             1\n",
       "false_neg             1\n",
       "dtype: int64"
      ]
     },
     "execution_count": 75,
     "metadata": {},
     "output_type": "execute_result"
    }
   ],
   "source": [
    "temp3[temp3.false_pos].apply(lambda x:len(x.unique()))"
   ]
  },
  {
   "cell_type": "code",
   "execution_count": 80,
   "metadata": {
    "collapsed": false
   },
   "outputs": [
    {
     "data": {
      "text/plain": [
       "ACTION                1\n",
       "RESOURCE             99\n",
       "MGR_ID              103\n",
       "ROLE_ROLLUP_1         1\n",
       "ROLE_ROLLUP_2        12\n",
       "ROLE_DEPTNAME        79\n",
       "ROLE_TITLE           48\n",
       "ROLE_FAMILY_DESC     60\n",
       "ROLE_FAMILY          24\n",
       "ROLE_CODE            48\n",
       "predicted_0           2\n",
       "predicted_1           2\n",
       "predicted_2           2\n",
       "final                 1\n",
       "actual                1\n",
       "false_pos             1\n",
       "false_neg             1\n",
       "dtype: int64"
      ]
     },
     "execution_count": 80,
     "metadata": {},
     "output_type": "execute_result"
    }
   ],
   "source": [
    "temp3[(temp3.false_pos) & (temp3[col_rollup1] == 117961)].apply(lambda x:len(x.unique()))"
   ]
  },
  {
   "cell_type": "code",
   "execution_count": 93,
   "metadata": {
    "collapsed": false
   },
   "outputs": [
    {
     "name": "stdout",
     "output_type": "stream",
     "text": [
      " Finding the probability of success for the following column combinations:\n",
      "['ROLE_ROLLUP_1', 'ROLE_FAMILY']\n"
     ]
    }
   ],
   "source": [
    "temp_combo,y  = perc_success(train_df,[col_rollup1,col_family],'feat1',test_df,del_temp=False)"
   ]
  },
  {
   "cell_type": "code",
   "execution_count": 104,
   "metadata": {
    "collapsed": false
   },
   "outputs": [
    {
     "data": {
      "text/plain": [
       "(1163, 12)"
      ]
     },
     "execution_count": 104,
     "metadata": {},
     "output_type": "execute_result"
    }
   ],
   "source": [
    "temp_combo[temp_combo.feat1 < 0.8]"
   ]
  },
  {
   "cell_type": "code",
   "execution_count": 99,
   "metadata": {
    "collapsed": false
   },
   "outputs": [
    {
     "data": {
      "text/plain": [
       "array([ 0.94297782])"
      ]
     },
     "execution_count": 99,
     "metadata": {},
     "output_type": "execute_result"
    }
   ],
   "source": [
    "temp_combo[(temp_combo.temp_feat1 == '117961_290919')]"
   ]
  },
  {
   "cell_type": "code",
   "execution_count": 87,
   "metadata": {
    "collapsed": true
   },
   "outputs": [],
   "source": [
    "temp_bool = (temp3[col_family] == 290919) & (temp3.false_pos) &(temp3[col_rollup1] ==117961)"
   ]
  },
  {
   "cell_type": "code",
   "execution_count": 89,
   "metadata": {
    "collapsed": false
   },
   "outputs": [
    {
     "data": {
      "text/plain": [
       "ACTION               1\n",
       "RESOURCE            53\n",
       "MGR_ID              49\n",
       "ROLE_ROLLUP_1        1\n",
       "ROLE_ROLLUP_2       10\n",
       "ROLE_DEPTNAME       39\n",
       "ROLE_TITLE           6\n",
       "ROLE_FAMILY_DESC     9\n",
       "ROLE_FAMILY          1\n",
       "ROLE_CODE            6\n",
       "predicted_0          2\n",
       "predicted_1          2\n",
       "predicted_2          1\n",
       "final                1\n",
       "actual               1\n",
       "false_pos            1\n",
       "false_neg            1\n",
       "dtype: int64"
      ]
     },
     "execution_count": 89,
     "metadata": {},
     "output_type": "execute_result"
    }
   ],
   "source": [
    "temp3[temp_bool].apply(lambda x:len(x.unique()))"
   ]
  },
  {
   "cell_type": "code",
   "execution_count": null,
   "metadata": {
    "collapsed": true
   },
   "outputs": [],
   "source": []
  },
  {
   "cell_type": "code",
   "execution_count": null,
   "metadata": {
    "collapsed": true
   },
   "outputs": [],
   "source": []
  },
  {
   "cell_type": "code",
   "execution_count": null,
   "metadata": {
    "collapsed": true
   },
   "outputs": [],
   "source": []
  },
  {
   "cell_type": "code",
   "execution_count": null,
   "metadata": {
    "collapsed": true
   },
   "outputs": [],
   "source": []
  },
  {
   "cell_type": "code",
   "execution_count": 43,
   "metadata": {
    "collapsed": false
   },
   "outputs": [
    {
     "name": "stdout",
     "output_type": "stream",
     "text": [
      " Finding the probability of success for the following column combinations:\n",
      "['ROLE_ROLLUP_1', 'ROLE_FAMILY_DESC']\n",
      "X_test index: 161776191\n",
      "Feature importance:\n",
      "            name    val\n",
      "0  ROLE_ROLLUP_2  0.140\n",
      "1  ROLE_DEPTNAME  0.210\n",
      "2     ROLE_TITLE  0.104\n",
      "3    ROLE_FAMILY  0.068\n",
      "4          feat1  0.478\n",
      "The area under the curve score for the test set:0.781\n",
      " Finding the probability of success for the following column combinations:\n",
      "['ROLE_ROLLUP_1', 'ROLE_DEPTNAME']\n",
      "X_test index: 161776191\n",
      "Feature importance:\n",
      "               name    val\n",
      "0     ROLE_ROLLUP_2  0.122\n",
      "1        ROLE_TITLE  0.119\n",
      "2  ROLE_FAMILY_DESC  0.157\n",
      "3       ROLE_FAMILY  0.072\n",
      "4             feat1  0.530\n",
      "The area under the curve score for the test set:0.772\n",
      " Finding the probability of success for the following column combinations:\n",
      "['ROLE_TITLE', 'ROLE_FAMILY_DESC']\n",
      "X_test index: 161776191\n",
      "Feature importance:\n",
      "            name    val\n",
      "0  ROLE_ROLLUP_1  0.070\n",
      "1  ROLE_ROLLUP_2  0.126\n",
      "2  ROLE_DEPTNAME  0.211\n",
      "3    ROLE_FAMILY  0.075\n",
      "4          feat1  0.517\n",
      "The area under the curve score for the test set:0.774\n",
      "\n",
      "The AUC for the combiend prediction:0.776\n",
      "false_pos     191\n",
      "false_neg    1042\n",
      "dtype: int64\n"
     ]
    }
   ],
   "source": [
    "combos = [(col_rollup1,col_desc),(col_rollup1,col_dept),(col_title,col_desc)]\n",
    "combos2 =[(col_rollup1,col_desc,col_dept,col_title)]\n",
    "temp1,temp2 = run_random_forest(combos)\n",
    "temp3 = pd.concat([train_df.loc[temp2.index,:],temp2],axis=1)"
   ]
  },
  {
   "cell_type": "code",
   "execution_count": 52,
   "metadata": {
    "collapsed": false
   },
   "outputs": [
    {
     "data": {
      "text/plain": [
       "ACTION                1\n",
       "RESOURCE            693\n",
       "MGR_ID              523\n",
       "ROLE_ROLLUP_1        56\n",
       "ROLE_ROLLUP_2        76\n",
       "ROLE_DEPTNAME       167\n",
       "ROLE_TITLE           98\n",
       "ROLE_FAMILY_DESC    176\n",
       "ROLE_FAMILY          38\n",
       "ROLE_CODE            98\n",
       "predicted_0           2\n",
       "predicted_1           2\n",
       "predicted_2           2\n",
       "final                 1\n",
       "actual                1\n",
       "false_pos             1\n",
       "false_neg             1\n",
       "dtype: int64"
      ]
     },
     "execution_count": 52,
     "metadata": {},
     "output_type": "execute_result"
    }
   ],
   "source": [
    "temp3[temp3.false_neg].apply(lambda x:len(x.unique()))"
   ]
  },
  {
   "cell_type": "code",
   "execution_count": 58,
   "metadata": {
    "collapsed": false
   },
   "outputs": [
    {
     "data": {
      "text/plain": [
       "1    10347\n",
       "0      633\n",
       "Name: ACTION, dtype: int64"
      ]
     },
     "execution_count": 58,
     "metadata": {},
     "output_type": "execute_result"
    }
   ],
   "source": [
    "train_df[train_df[col_family]==290919][col_action].value_counts()"
   ]
  },
  {
   "cell_type": "code",
   "execution_count": 55,
   "metadata": {
    "collapsed": false
   },
   "outputs": [
    {
     "data": {
      "text/plain": [
       "290919    438\n",
       "19721     164\n",
       "292795     75\n",
       "117887     45\n",
       "118398     39\n",
       "118424     33\n",
       "308574     27\n",
       "270488     23\n",
       "4673       21\n",
       "118960     20\n",
       "118331     18\n",
       "118638     18\n",
       "118643     16\n",
       "118453     15\n",
       "119095     11\n",
       "118474     10\n",
       "19793       7\n",
       "118131      6\n",
       "118205      6\n",
       "118363      6\n",
       "118504      6\n",
       "120518      5\n",
       "118295      4\n",
       "119184      4\n",
       "119221      4\n",
       "249618      3\n",
       "118762      3\n",
       "121620      2\n",
       "120134      2\n",
       "118667      2\n",
       "118704      2\n",
       "119788      1\n",
       "118347      1\n",
       "121916      1\n",
       "118467      1\n",
       "118612      1\n",
       "119006      1\n",
       "119695      1\n",
       "Name: ROLE_FAMILY, dtype: int64"
      ]
     },
     "execution_count": 55,
     "metadata": {},
     "output_type": "execute_result"
    }
   ],
   "source": [
    "temp3[temp3.false_neg][col_family].value_counts()"
   ]
  },
  {
   "cell_type": "code",
   "execution_count": 50,
   "metadata": {
    "collapsed": false
   },
   "outputs": [
    {
     "data": {
      "text/plain": [
       "((9831, 17), (9831, 7))"
      ]
     },
     "execution_count": 50,
     "metadata": {},
     "output_type": "execute_result"
    }
   ],
   "source": [
    "temp3.shape, temp2.shape"
   ]
  },
  {
   "cell_type": "code",
   "execution_count": 107,
   "metadata": {
    "collapsed": false
   },
   "outputs": [
    {
     "data": {
      "text/plain": [
       "predicted_0    8387.0\n",
       "predicted_1    8431.0\n",
       "predicted_2    8376.0\n",
       "final          8406.0\n",
       "actual         9262.0\n",
       "false_pos       190.0\n",
       "false_neg      1046.0\n",
       "dtype: float64"
      ]
     },
     "execution_count": 107,
     "metadata": {},
     "output_type": "execute_result"
    }
   ],
   "source": [
    "temp2.sum()"
   ]
  },
  {
   "cell_type": "code",
   "execution_count": 84,
   "metadata": {
    "collapsed": false
   },
   "outputs": [
    {
     "name": "stdout",
     "output_type": "stream",
     "text": [
      " Finding the probability of success for the following column combinations:\n",
      "['ROLE_ROLLUP_1', 'ROLE_FAMILY_DESC']\n",
      "Feature importance:\n",
      "               name    val\n",
      "0     ROLE_ROLLUP_1  0.050\n",
      "1     ROLE_ROLLUP_2  0.111\n",
      "2     ROLE_DEPTNAME  0.198\n",
      "3        ROLE_TITLE  0.095\n",
      "4  ROLE_FAMILY_DESC  0.080\n",
      "5       ROLE_FAMILY  0.057\n",
      "6             feat1  0.409\n",
      "The area under the curve score for the test set:0.784\n",
      " Finding the probability of success for the following column combinations:\n",
      "['ROLE_ROLLUP_1', 'ROLE_DEPTNAME']\n",
      "Feature importance:\n",
      "               name    val\n",
      "0     ROLE_ROLLUP_1  0.053\n",
      "1     ROLE_ROLLUP_2  0.086\n",
      "2     ROLE_DEPTNAME  0.108\n",
      "3        ROLE_TITLE  0.116\n",
      "4  ROLE_FAMILY_DESC  0.148\n",
      "5       ROLE_FAMILY  0.067\n",
      "6             feat1  0.421\n",
      "The area under the curve score for the test set:0.762\n",
      " Finding the probability of success for the following column combinations:\n",
      "['ROLE_TITLE', 'ROLE_FAMILY_DESC']\n",
      "Feature importance:\n",
      "               name    val\n",
      "0     ROLE_ROLLUP_1  0.063\n",
      "1     ROLE_ROLLUP_2  0.126\n",
      "2     ROLE_DEPTNAME  0.201\n",
      "3        ROLE_TITLE  0.067\n",
      "4  ROLE_FAMILY_DESC  0.077\n",
      "5       ROLE_FAMILY  0.051\n",
      "6             feat1  0.416\n",
      "The area under the curve score for the test set:0.769\n",
      "\n",
      "The AUC for the combiend prediction:0.774\n"
     ]
    }
   ],
   "source": [
    "combos = [(col_rollup1,col_desc),(col_rollup1,col_dept),(col_title,col_desc)]\n",
    "combos2 =[(col_rollup1,col_desc,col_dept,col_title)]\n",
    "temp1,temp2 = run_random_forest(combos)"
   ]
  },
  {
   "cell_type": "code",
   "execution_count": 25,
   "metadata": {
    "collapsed": false
   },
   "outputs": [],
   "source": [
    "temp1.to_csv(loc_dir + 'output6.csv',index=False)"
   ]
  },
  {
   "cell_type": "code",
   "execution_count": 182,
   "metadata": {
    "collapsed": false
   },
   "outputs": [
    {
     "data": {
      "text/plain": [
       "Index([u'ACTION', u'RESOURCE', u'MGR_ID', u'ROLE_ROLLUP_1', u'ROLE_ROLLUP_2',\n",
       "       u'ROLE_DEPTNAME', u'ROLE_TITLE', u'ROLE_FAMILY_DESC', u'ROLE_FAMILY',\n",
       "       u'ROLE_CODE'],\n",
       "      dtype='object')"
      ]
     },
     "execution_count": 182,
     "metadata": {},
     "output_type": "execute_result"
    }
   ],
   "source": [
    "train_df.columns"
   ]
  },
  {
   "cell_type": "code",
   "execution_count": 183,
   "metadata": {
    "collapsed": false
   },
   "outputs": [
    {
     "name": "stdout",
     "output_type": "stream",
     "text": [
      " Finding the probability of success for the following column combinations:\n",
      "['ROLE_FAMILY']\n",
      " Finding the probability of success for the following column combinations:\n",
      "['ROLE_ROLLUP_1', 'ROLE_FAMILY_DESC']\n",
      " Finding the probability of success for the following column combinations:\n",
      "['ROLE_ROLLUP_1', 'ROLE_TITLE']\n"
     ]
    }
   ],
   "source": [
    "comm_col1 = [col_family]\n",
    "comm_col2 = [col_rollup1,col_desc]\n",
    "comm_col3 = [col_rollup1,col_title]\n",
    "\n",
    "\n",
    "# perc_comm(comm_col1)\n",
    "train_df1,test_df1 = perc_success(train_df,comm_col1,'feat1',test_df,del_temp=True,del_cols=delcols)\n",
    "train_df2,test_df2 = perc_success(train_df,comm_col2,'feat2',test_df,True,del_cols=delcols)\n",
    "train_df3,test_df3 = perc_success(train_df,comm_col3,'feat3',test_df,True,del_cols=delcols)"
   ]
  },
  {
   "cell_type": "code",
   "execution_count": null,
   "metadata": {
    "collapsed": false
   },
   "outputs": [],
   "source": [
    "len((set(train_df1[train_df1.feat1.isnull()].index).intersection(set(train_df2[train_df2.feat2.isnull()].index))).intersection(set(train_df3[train_df3.feat3.isnull()].index)))"
   ]
  },
  {
   "cell_type": "code",
   "execution_count": 214,
   "metadata": {
    "collapsed": true
   },
   "outputs": [],
   "source": [
    "nestimators = 100\n",
    "minleaf=3"
   ]
  },
  {
   "cell_type": "code",
   "execution_count": 215,
   "metadata": {
    "collapsed": false
   },
   "outputs": [
    {
     "name": "stdout",
     "output_type": "stream",
     "text": [
      "The area under the curve score for the test set:0.766\n"
     ]
    }
   ],
   "source": [
    "alg1 = RandomForestClassifier(class_weight='balanced',n_estimators=nestimators,min_samples_leaf=minleaf)\n",
    "alg1 = run_algo(alg1,train_df1)"
   ]
  },
  {
   "cell_type": "code",
   "execution_count": 211,
   "metadata": {
    "collapsed": false
   },
   "outputs": [
    {
     "data": {
      "text/plain": [
       "Index([u'ACTION', u'ROLE_ROLLUP_1', u'ROLE_ROLLUP_2', u'ROLE_DEPTNAME',\n",
       "       u'ROLE_TITLE', u'ROLE_FAMILY_DESC', u'ROLE_FAMILY', u'feat1'],\n",
       "      dtype='object')"
      ]
     },
     "execution_count": 211,
     "metadata": {},
     "output_type": "execute_result"
    }
   ],
   "source": [
    "train_df1.columns"
   ]
  },
  {
   "cell_type": "code",
   "execution_count": 216,
   "metadata": {
    "collapsed": false
   },
   "outputs": [
    {
     "name": "stdout",
     "output_type": "stream",
     "text": [
      "The area under the curve score for the test set:0.799\n"
     ]
    }
   ],
   "source": [
    "alg2 = RandomForestClassifier(class_weight='balanced',n_estimators=nestimators,min_samples_leaf=minleaf)\n",
    "alg2 = run_algo(alg2,train_df2)"
   ]
  },
  {
   "cell_type": "code",
   "execution_count": 217,
   "metadata": {
    "collapsed": false
   },
   "outputs": [
    {
     "name": "stdout",
     "output_type": "stream",
     "text": [
      "The area under the curve score for the test set:0.773\n"
     ]
    }
   ],
   "source": [
    "alg3 = RandomForestClassifier(class_weight='balanced',n_estimators=nestimators,min_samples_leaf=minleaf)\n",
    "alg3 = run_algo(alg3,train_df3)"
   ]
  },
  {
   "cell_type": "code",
   "execution_count": 218,
   "metadata": {
    "collapsed": false
   },
   "outputs": [
    {
     "data": {
      "text/plain": [
       "((32769, 8), (58921, 8))"
      ]
     },
     "execution_count": 218,
     "metadata": {},
     "output_type": "execute_result"
    }
   ],
   "source": [
    "train_df1.shape, test_df1.shape"
   ]
  },
  {
   "cell_type": "code",
   "execution_count": 223,
   "metadata": {
    "collapsed": false
   },
   "outputs": [],
   "source": [
    "predict1 = alg1.predict(test_df1.iloc[:,1:])\n",
    "predict2 = alg2.predict(test_df2.iloc[:,1:])\n",
    "predict3 = alg3.predict(test_df3.iloc[:,1:])"
   ]
  },
  {
   "cell_type": "code",
   "execution_count": 224,
   "metadata": {
    "collapsed": false
   },
   "outputs": [
    {
     "data": {
      "text/plain": [
       "RandomForestClassifier(bootstrap=True, class_weight='balanced',\n",
       "            criterion='gini', max_depth=None, max_features='auto',\n",
       "            max_leaf_nodes=None, min_samples_leaf=3, min_samples_split=2,\n",
       "            min_weight_fraction_leaf=0.0, n_estimators=100, n_jobs=1,\n",
       "            oob_score=False, random_state=None, verbose=0,\n",
       "            warm_start=False)"
      ]
     },
     "execution_count": 224,
     "metadata": {},
     "output_type": "execute_result"
    }
   ],
   "source": [
    "alg1"
   ]
  },
  {
   "cell_type": "code",
   "execution_count": 225,
   "metadata": {
    "collapsed": false
   },
   "outputs": [],
   "source": [
    "predict_df = pd.DataFrame(zip(predict1,predict2,predict3),columns=['alg1','alg2','alg3'])"
   ]
  },
  {
   "cell_type": "code",
   "execution_count": 226,
   "metadata": {
    "collapsed": false
   },
   "outputs": [],
   "source": [
    "predict_df[col_action] = predict_df.mean(axis=1).round()"
   ]
  },
  {
   "cell_type": "code",
   "execution_count": 227,
   "metadata": {
    "collapsed": false
   },
   "outputs": [],
   "source": [
    "# train_df.iloc[:,1:].corr()"
   ]
  },
  {
   "cell_type": "code",
   "execution_count": 228,
   "metadata": {
    "collapsed": false
   },
   "outputs": [
    {
     "data": {
      "text/plain": [
       "[('ROLE_ROLLUP_1', 0.08554169340948968),\n",
       " ('ROLE_ROLLUP_2', 0.16583449467889155),\n",
       " ('ROLE_DEPTNAME', 0.25298718124239755),\n",
       " ('ROLE_TITLE', 0.13299507657574772),\n",
       " ('ROLE_FAMILY_DESC', 0.19781636434961744),\n",
       " ('ROLE_FAMILY', 0.06056583269617781),\n",
       " ('feat1', 0.10425935704767804)]"
      ]
     },
     "execution_count": 228,
     "metadata": {},
     "output_type": "execute_result"
    }
   ],
   "source": [
    "zip(train_df1.columns.tolist()[1:],alg1.feature_importances_)"
   ]
  },
  {
   "cell_type": "code",
   "execution_count": 229,
   "metadata": {
    "collapsed": false
   },
   "outputs": [
    {
     "data": {
      "text/plain": [
       "[('ROLE_ROLLUP_1', 0.050725061456988234),\n",
       " ('ROLE_ROLLUP_2', 0.11630537187992367),\n",
       " ('ROLE_DEPTNAME', 0.19732610265005557),\n",
       " ('ROLE_TITLE', 0.092600895727295324),\n",
       " ('ROLE_FAMILY_DESC', 0.084662217637926626),\n",
       " ('ROLE_FAMILY', 0.060541966374448641),\n",
       " ('feat2', 0.39783838427336188)]"
      ]
     },
     "execution_count": 229,
     "metadata": {},
     "output_type": "execute_result"
    }
   ],
   "source": [
    "zip(train_df2.columns.tolist()[1:],alg2.feature_importances_)"
   ]
  },
  {
   "cell_type": "code",
   "execution_count": 230,
   "metadata": {
    "collapsed": false
   },
   "outputs": [
    {
     "data": {
      "text/plain": [
       "[('ROLE_ROLLUP_1', 0.047018813994775484),\n",
       " ('ROLE_ROLLUP_2', 0.1231160075633416),\n",
       " ('ROLE_DEPTNAME', 0.22711215623564138),\n",
       " ('ROLE_TITLE', 0.070978793430198819),\n",
       " ('ROLE_FAMILY_DESC', 0.15156497010142306),\n",
       " ('ROLE_FAMILY', 0.063042345931146396),\n",
       " ('feat3', 0.31716691274347314)]"
      ]
     },
     "execution_count": 230,
     "metadata": {},
     "output_type": "execute_result"
    }
   ],
   "source": [
    "zip(train_df3.columns.tolist()[1:],alg3.feature_importances_)"
   ]
  },
  {
   "cell_type": "code",
   "execution_count": 231,
   "metadata": {
    "collapsed": false
   },
   "outputs": [],
   "source": [
    "predict_df['id'] = test_df.id"
   ]
  },
  {
   "cell_type": "code",
   "execution_count": 232,
   "metadata": {
    "collapsed": false
   },
   "outputs": [],
   "source": [
    "output_df = predict_df[['id',col_action]]"
   ]
  },
  {
   "cell_type": "code",
   "execution_count": 234,
   "metadata": {
    "collapsed": true
   },
   "outputs": [],
   "source": [
    "output_df.to_csv(loc_dir +'output4.csv',index=False)"
   ]
  },
  {
   "cell_type": "markdown",
   "metadata": {
    "collapsed": true
   },
   "source": [
    "## Logistic regression"
   ]
  },
  {
   "cell_type": "code",
   "execution_count": 137,
   "metadata": {
    "collapsed": true
   },
   "outputs": [],
   "source": [
    "from sklearn.linear_model import LogisticRegression\n",
    "from sklearn.cross_validation import train_test_split\n",
    "from sklearn.metrics import roc_auc_score"
   ]
  },
  {
   "cell_type": "code",
   "execution_count": 138,
   "metadata": {
    "collapsed": false
   },
   "outputs": [],
   "source": [
    "drop_cols = [col_resource,col_mgr,col_code]\n",
    "train_df1 = train_df.drop(drop_cols,axis=1)\n",
    "test_df1 = test_df.drop(drop_cols,axis=1)"
   ]
  },
  {
   "cell_type": "code",
   "execution_count": 139,
   "metadata": {
    "collapsed": false
   },
   "outputs": [],
   "source": [
    "comm_cols = [col_rollup1,col_rollup2,col_dept,col_title,col_desc,col_family]"
   ]
  },
  {
   "cell_type": "code",
   "execution_count": 140,
   "metadata": {
    "collapsed": false
   },
   "outputs": [],
   "source": [
    "def get_dummies(temp_df,cols):\n",
    "    dummy_df = pd.DataFrame()\n",
    "\n",
    "    for xcol in cols:\n",
    "        print \"for: %s\" %xcol\n",
    "        temp_df1 = pd.get_dummies(temp_df[xcol])\n",
    "        temp_df1.columns = [xcol +'_' +str(x) for x in temp_df1.columns]\n",
    "        dummy_df = pd.concat([dummy_df,temp_df1],axis=1)\n",
    "    return dummy_df"
   ]
  },
  {
   "cell_type": "code",
   "execution_count": 141,
   "metadata": {
    "collapsed": false
   },
   "outputs": [
    {
     "name": "stdout",
     "output_type": "stream",
     "text": [
      "for: ROLE_ROLLUP_1\n",
      "for: ROLE_ROLLUP_2\n",
      "for: ROLE_DEPTNAME\n",
      "for: ROLE_TITLE\n",
      "for: ROLE_FAMILY_DESC\n",
      "for: ROLE_FAMILY\n"
     ]
    }
   ],
   "source": [
    "train_dmy_df = get_dummies(train_df,comm_cols)"
   ]
  },
  {
   "cell_type": "code",
   "execution_count": 142,
   "metadata": {
    "collapsed": false
   },
   "outputs": [
    {
     "name": "stdout",
     "output_type": "stream",
     "text": [
      "for: ROLE_ROLLUP_1\n",
      "for: ROLE_ROLLUP_2\n",
      "for: ROLE_DEPTNAME\n",
      "for: ROLE_TITLE\n",
      "for: ROLE_FAMILY_DESC\n",
      "for: ROLE_FAMILY\n"
     ]
    }
   ],
   "source": [
    "test_dmy_df = get_dummies(test_df,comm_cols)"
   ]
  },
  {
   "cell_type": "code",
   "execution_count": 145,
   "metadata": {
    "collapsed": false
   },
   "outputs": [
    {
     "name": "stdout",
     "output_type": "stream",
     "text": [
      " Finding the probability of success for the following column combinations:\n",
      "['ROLE_ROLLUP_1', 'ROLE_DEPTNAME', 'ROLE_FAMILY_DESC']\n"
     ]
    }
   ],
   "source": [
    "train_feat,test_feat = perc_success(train_df,[col_rollup1,col_dept,col_desc],'feat1',test_df,True)"
   ]
  },
  {
   "cell_type": "code",
   "execution_count": 151,
   "metadata": {
    "collapsed": false
   },
   "outputs": [],
   "source": [
    "train_feat['feat1'] = train_feat.feat1.fillna(0)"
   ]
  },
  {
   "cell_type": "code",
   "execution_count": 152,
   "metadata": {
    "collapsed": true
   },
   "outputs": [],
   "source": [
    "train_dmy_df['feat1'] = train_feat.feat1\n",
    "test_dmy_df['feat1'] = test_feat.feat1"
   ]
  },
  {
   "cell_type": "code",
   "execution_count": 153,
   "metadata": {
    "collapsed": false
   },
   "outputs": [
    {
     "data": {
      "text/plain": [
       "((58921, 3938), (32769, 3523))"
      ]
     },
     "execution_count": 153,
     "metadata": {},
     "output_type": "execute_result"
    }
   ],
   "source": [
    "test_dmy_df.shape, train_dmy_df.shape"
   ]
  },
  {
   "cell_type": "code",
   "execution_count": 154,
   "metadata": {
    "collapsed": false
   },
   "outputs": [],
   "source": [
    "X_train,X_test,y_train,y_test = train_test_split(train_dmy_df,train_df.ACTION,test_size=0.3,stratify=train_df.ACTION)"
   ]
  },
  {
   "cell_type": "code",
   "execution_count": 155,
   "metadata": {
    "collapsed": false
   },
   "outputs": [],
   "source": [
    "lg1 = LogisticRegression(class_weight='balanced')\n",
    "lg1 = lg1.fit(X_train,y_train)"
   ]
  },
  {
   "cell_type": "code",
   "execution_count": 156,
   "metadata": {
    "collapsed": false
   },
   "outputs": [
    {
     "name": "stdout",
     "output_type": "stream",
     "text": [
      "0.877590591426\n",
      "0.80396362255\n"
     ]
    }
   ],
   "source": [
    "print roc_auc_score(y_train,lg1.predict(X_train))\n",
    "print roc_auc_score(y_test,lg1.predict(X_test))"
   ]
  },
  {
   "cell_type": "code",
   "execution_count": 157,
   "metadata": {
    "collapsed": false
   },
   "outputs": [
    {
     "data": {
      "text/plain": [
       "3291"
      ]
     },
     "execution_count": 157,
     "metadata": {},
     "output_type": "execute_result"
    }
   ],
   "source": [
    "len([x for x in test_dmy_df.columns if x in train_dmy_df.columns])"
   ]
  },
  {
   "cell_type": "code",
   "execution_count": 158,
   "metadata": {
    "collapsed": false
   },
   "outputs": [],
   "source": [
    "test_dmy_df2 = test_dmy_df.loc[:,train_dmy_df.columns].fillna(0)"
   ]
  },
  {
   "cell_type": "code",
   "execution_count": 159,
   "metadata": {
    "collapsed": true
   },
   "outputs": [],
   "source": [
    "predict1 = lg1.predict(test_dmy_df2)"
   ]
  },
  {
   "cell_type": "code",
   "execution_count": 160,
   "metadata": {
    "collapsed": false
   },
   "outputs": [],
   "source": [
    "temp_df = pd.DataFrame(zip(test_df.id,predict1),columns=['id',col_action])"
   ]
  },
  {
   "cell_type": "code",
   "execution_count": 161,
   "metadata": {
    "collapsed": false
   },
   "outputs": [],
   "source": [
    "temp_df.to_csv(loc_dir + 'output2.csv',index=False)"
   ]
  },
  {
   "cell_type": "code",
   "execution_count": 135,
   "metadata": {
    "collapsed": false
   },
   "outputs": [
    {
     "data": {
      "text/plain": [
       "0.74003515697490618"
      ]
     },
     "execution_count": 135,
     "metadata": {},
     "output_type": "execute_result"
    }
   ],
   "source": [
    "predict1"
   ]
  },
  {
   "cell_type": "code",
   "execution_count": 130,
   "metadata": {
    "collapsed": false
   },
   "outputs": [
    {
     "data": {
      "text/plain": [
       "0.8481994942889528"
      ]
     },
     "execution_count": 130,
     "metadata": {},
     "output_type": "execute_result"
    }
   ],
   "source": [
    "lg1.predict(X_train).sum()/float(X_train.shape[0])"
   ]
  },
  {
   "cell_type": "code",
   "execution_count": 121,
   "metadata": {
    "collapsed": false
   },
   "outputs": [
    {
     "data": {
      "text/plain": [
       "1    0.942105\n",
       "0    0.057895\n",
       "Name: ACTION, dtype: float64"
      ]
     },
     "execution_count": 121,
     "metadata": {},
     "output_type": "execute_result"
    }
   ],
   "source": [
    "y_train.value_counts()/len(y_train)"
   ]
  },
  {
   "cell_type": "code",
   "execution_count": 122,
   "metadata": {
    "collapsed": false
   },
   "outputs": [
    {
     "data": {
      "text/plain": [
       "1    0.942122\n",
       "0    0.057878\n",
       "Name: ACTION, dtype: float64"
      ]
     },
     "execution_count": 122,
     "metadata": {},
     "output_type": "execute_result"
    }
   ],
   "source": [
    "y_test.value_counts()/len(y_test)"
   ]
  },
  {
   "cell_type": "code",
   "execution_count": 166,
   "metadata": {
    "collapsed": false
   },
   "outputs": [
    {
     "data": {
      "text/plain": [
       "array([  1.05429626e-03,   6.47836227e-05])"
      ]
     },
     "execution_count": 166,
     "metadata": {},
     "output_type": "execute_result"
    }
   ],
   "source": [
    "2.0/np.bincount(train_df.ACTION)"
   ]
  },
  {
   "cell_type": "code",
   "execution_count": 164,
   "metadata": {
    "collapsed": true
   },
   "outputs": [],
   "source": [
    "?np.bincount"
   ]
  },
  {
   "cell_type": "code",
   "execution_count": 167,
   "metadata": {
    "collapsed": false
   },
   "outputs": [
    {
     "data": {
      "text/plain": [
       "1    30872\n",
       "0     1897\n",
       "Name: ACTION, dtype: int64"
      ]
     },
     "execution_count": 167,
     "metadata": {},
     "output_type": "execute_result"
    }
   ],
   "source": [
    "train_df.ACTION.value_counts()"
   ]
  },
  {
   "cell_type": "code",
   "execution_count": 173,
   "metadata": {
    "collapsed": false
   },
   "outputs": [
    {
     "data": {
      "text/plain": [
       "16.274117026884554"
      ]
     },
     "execution_count": 173,
     "metadata": {},
     "output_type": "execute_result"
    }
   ],
   "source": [
    "30872.0/1897"
   ]
  },
  {
   "cell_type": "code",
   "execution_count": 175,
   "metadata": {
    "collapsed": false
   },
   "outputs": [
    {
     "data": {
      "text/plain": [
       "array([0, 1], dtype=int64)"
      ]
     },
     "execution_count": 175,
     "metadata": {},
     "output_type": "execute_result"
    }
   ],
   "source": [
    "lg1.classes_"
   ]
  },
  {
   "cell_type": "code",
   "execution_count": null,
   "metadata": {
    "collapsed": true
   },
   "outputs": [],
   "source": []
  }
 ],
 "metadata": {
  "anaconda-cloud": {},
  "kernelspec": {
   "display_name": "Python [Root]",
   "language": "python",
   "name": "Python [Root]"
  },
  "language_info": {
   "codemirror_mode": {
    "name": "ipython",
    "version": 2
   },
   "file_extension": ".py",
   "mimetype": "text/x-python",
   "name": "python",
   "nbconvert_exporter": "python",
   "pygments_lexer": "ipython2",
   "version": "2.7.12"
  }
 },
 "nbformat": 4,
 "nbformat_minor": 0
}
